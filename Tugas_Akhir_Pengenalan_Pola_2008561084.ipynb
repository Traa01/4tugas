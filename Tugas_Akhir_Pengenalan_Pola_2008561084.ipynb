{
  "nbformat": 4,
  "nbformat_minor": 0,
  "metadata": {
    "colab": {
      "provenance": [],
      "authorship_tag": "ABX9TyPqErpQ9XeqJDLWeyH56O8H",
      "include_colab_link": true
    },
    "kernelspec": {
      "name": "python3",
      "display_name": "Python 3"
    },
    "language_info": {
      "name": "python"
    }
  },
  "cells": [
    {
      "cell_type": "markdown",
      "metadata": {
        "id": "view-in-github",
        "colab_type": "text"
      },
      "source": [
        "<a href=\"https://colab.research.google.com/github/Traa01/4tugas/blob/main/Tugas_Akhir_Pengenalan_Pola_2008561084.ipynb\" target=\"_parent\"><img src=\"https://colab.research.google.com/assets/colab-badge.svg\" alt=\"Open In Colab\"/></a>"
      ]
    },
    {
      "cell_type": "markdown",
      "source": [],
      "metadata": {
        "id": "iJd1schtwKaB"
      }
    },
    {
      "cell_type": "markdown",
      "source": [
        "# Bagian Baru"
      ],
      "metadata": {
        "id": "Oi6YhmF6r1lA"
      }
    },
    {
      "cell_type": "markdown",
      "source": [
        "Membuat Library & Meload Data EEG\n",
        "\n",
        "\n",
        "\n"
      ],
      "metadata": {
        "id": "_VK0JZUhwLdZ"
      }
    },
    {
      "cell_type": "code",
      "source": [
        "import pandas as pd\n",
        "from sklearn.model_selection import train_test_split\n",
        "from sklearn.preprocessing import StandardScaler\n",
        "from tensorflow.keras import layers, models\n",
        "\n",
        "\n",
        "eeg_data = pd.read_csv('/content/EEG_dataset.csv')\n",
        "\n",
        "\n"
      ],
      "metadata": {
        "id": "1hW4jP-Ir6XX"
      },
      "execution_count": 15,
      "outputs": []
    },
    {
      "cell_type": "markdown",
      "source": [
        "Pisahkan fitur (x) dan label (y)"
      ],
      "metadata": {
        "id": "sLXRQyU5wfMk"
      }
    },
    {
      "cell_type": "code",
      "source": [
        "X = eeg_data.iloc[:, :-1].values\n",
        "y = eeg_data.iloc[:, -1].values"
      ],
      "metadata": {
        "id": "1ST6L-VgwxAm"
      },
      "execution_count": 16,
      "outputs": []
    },
    {
      "cell_type": "markdown",
      "source": [
        "Normalisasi Data menggunakan Standardscaler"
      ],
      "metadata": {
        "id": "jtgMGTdzw2QQ"
      }
    },
    {
      "cell_type": "code",
      "source": [
        "scaler = StandardScaler()\n",
        "X = scaler.fit_transform(X)"
      ],
      "metadata": {
        "id": "dmCzb6w0sSkP"
      },
      "execution_count": 17,
      "outputs": []
    },
    {
      "cell_type": "markdown",
      "source": [
        "Pisahkan Data Train dan Data Tes Sets"
      ],
      "metadata": {
        "id": "-uMsaq6HxCIx"
      }
    },
    {
      "cell_type": "code",
      "source": [
        "X_train, X_test, y_train, y_test = train_test_split(X, y, test_size=0.2, random_state=42)"
      ],
      "metadata": {
        "id": "dO9nQ7fuxLzv"
      },
      "execution_count": 18,
      "outputs": []
    },
    {
      "cell_type": "markdown",
      "source": [
        "Model MLP"
      ],
      "metadata": {
        "id": "qxD1ducbxWxR"
      }
    },
    {
      "cell_type": "code",
      "source": [
        "model = models.Sequential()\n",
        "model.add(layers.InputLayer(input_shape=(X_train.shape[1],)))\n",
        "model.add(layers.Dense(64, activation='relu'))\n",
        "model.add(layers.Dense(32, activation='relu'))\n",
        "model.add(layers.Dense(1, activation='sigmoid'))"
      ],
      "metadata": {
        "id": "-N7ktvmOxlWZ"
      },
      "execution_count": 19,
      "outputs": []
    },
    {
      "cell_type": "markdown",
      "source": [
        "Kompilasi Model"
      ],
      "metadata": {
        "id": "28EVD_qkxrFw"
      }
    },
    {
      "cell_type": "code",
      "source": [
        "model.compile(optimizer='adam', loss='binary_crossentropy', metrics=['accuracy'])"
      ],
      "metadata": {
        "id": "sE3__en7xwFN"
      },
      "execution_count": 20,
      "outputs": []
    },
    {
      "cell_type": "markdown",
      "source": [
        "Latih Model"
      ],
      "metadata": {
        "id": "EA1aXTM4x2x_"
      }
    },
    {
      "cell_type": "code",
      "source": [
        "model.fit(X_train, y_train, epochs=10, batch_size=32, validation_data=(X_test, y_test))"
      ],
      "metadata": {
        "colab": {
          "base_uri": "https://localhost:8080/"
        },
        "id": "h8TabMt4x4za",
        "outputId": "428b17ac-15a2-4b8e-a0e7-68878b19a073"
      },
      "execution_count": 21,
      "outputs": [
        {
          "output_type": "stream",
          "name": "stdout",
          "text": [
            "Epoch 1/10\n",
            "6/6 [==============================] - 1s 44ms/step - loss: 0.3456 - accuracy: 0.1395 - val_loss: 0.4215 - val_accuracy: 0.2727\n",
            "Epoch 2/10\n",
            "6/6 [==============================] - 0s 9ms/step - loss: -0.0494 - accuracy: 0.1570 - val_loss: 0.2855 - val_accuracy: 0.2500\n",
            "Epoch 3/10\n",
            "6/6 [==============================] - 0s 8ms/step - loss: -0.3852 - accuracy: 0.1453 - val_loss: 0.1482 - val_accuracy: 0.2500\n",
            "Epoch 4/10\n",
            "6/6 [==============================] - 0s 12ms/step - loss: -0.7101 - accuracy: 0.1628 - val_loss: 0.0106 - val_accuracy: 0.2500\n",
            "Epoch 5/10\n",
            "6/6 [==============================] - 0s 12ms/step - loss: -1.0372 - accuracy: 0.1628 - val_loss: -0.1025 - val_accuracy: 0.2500\n",
            "Epoch 6/10\n",
            "6/6 [==============================] - 0s 12ms/step - loss: -1.3914 - accuracy: 0.1686 - val_loss: -0.2288 - val_accuracy: 0.2500\n",
            "Epoch 7/10\n",
            "6/6 [==============================] - 0s 12ms/step - loss: -1.7970 - accuracy: 0.1860 - val_loss: -0.3411 - val_accuracy: 0.2500\n",
            "Epoch 8/10\n",
            "6/6 [==============================] - 0s 9ms/step - loss: -2.2699 - accuracy: 0.2035 - val_loss: -0.4769 - val_accuracy: 0.2500\n",
            "Epoch 9/10\n",
            "6/6 [==============================] - 0s 9ms/step - loss: -2.9020 - accuracy: 0.2035 - val_loss: -0.7343 - val_accuracy: 0.2500\n",
            "Epoch 10/10\n",
            "6/6 [==============================] - 0s 12ms/step - loss: -3.5948 - accuracy: 0.2093 - val_loss: -0.9851 - val_accuracy: 0.2500\n"
          ]
        },
        {
          "output_type": "execute_result",
          "data": {
            "text/plain": [
              "<keras.src.callbacks.History at 0x7a21fc278ac0>"
            ]
          },
          "metadata": {},
          "execution_count": 21
        }
      ]
    },
    {
      "cell_type": "markdown",
      "source": [
        "Evaluasi Model pada data tes"
      ],
      "metadata": {
        "id": "RGXmvFJ0x7r5"
      }
    },
    {
      "cell_type": "code",
      "source": [
        "loss, accuracy = model.evaluate(X_test, y_test)\n",
        "print(f'Test Loss: {loss}, Test Accuracy: {accuracy}')"
      ],
      "metadata": {
        "colab": {
          "base_uri": "https://localhost:8080/"
        },
        "id": "J21EVV3Xx_Ij",
        "outputId": "f8123c7a-71af-4873-e1d0-a2e72c079e00"
      },
      "execution_count": 22,
      "outputs": [
        {
          "output_type": "stream",
          "name": "stdout",
          "text": [
            "2/2 [==============================] - 0s 7ms/step - loss: -0.9851 - accuracy: 0.2500\n",
            "Test Loss: -0.9850587248802185, Test Accuracy: 0.25\n"
          ]
        }
      ]
    }
  ]
}